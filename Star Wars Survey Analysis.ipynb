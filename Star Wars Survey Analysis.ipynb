{
 "cells": [
  {
   "cell_type": "markdown",
   "metadata": {},
   "source": [
    "### Import Packages"
   ]
  },
  {
   "cell_type": "code",
   "execution_count": 50,
   "metadata": {},
   "outputs": [],
   "source": [
    "import numpy as np\n",
    "import pandas as pd\n",
    "import matplotlib.pyplot as plt\n",
    "%matplotlib inline\n",
    "pd.set_option('display.max_columns', 500)"
   ]
  },
  {
   "cell_type": "markdown",
   "metadata": {},
   "source": [
    "### Improt data"
   ]
  },
  {
   "cell_type": "code",
   "execution_count": 51,
   "metadata": {},
   "outputs": [],
   "source": [
    "star_wars = pd.read_csv(\"data/star_wars.csv\", encoding=\"ISO-8859-1\")"
   ]
  },
  {
   "cell_type": "code",
   "execution_count": 52,
   "metadata": {},
   "outputs": [
    {
     "data": {
      "text/html": [
       "<div>\n",
       "<style scoped>\n",
       "    .dataframe tbody tr th:only-of-type {\n",
       "        vertical-align: middle;\n",
       "    }\n",
       "\n",
       "    .dataframe tbody tr th {\n",
       "        vertical-align: top;\n",
       "    }\n",
       "\n",
       "    .dataframe thead th {\n",
       "        text-align: right;\n",
       "    }\n",
       "</style>\n",
       "<table border=\"1\" class=\"dataframe\">\n",
       "  <thead>\n",
       "    <tr style=\"text-align: right;\">\n",
       "      <th></th>\n",
       "      <th>RespondentID</th>\n",
       "      <th>Have you seen any of the 6 films in the Star Wars franchise?</th>\n",
       "      <th>Do you consider yourself to be a fan of the Star Wars film franchise?</th>\n",
       "      <th>Which of the following Star Wars films have you seen? Please select all that apply.</th>\n",
       "      <th>Unnamed: 4</th>\n",
       "      <th>Unnamed: 5</th>\n",
       "      <th>Unnamed: 6</th>\n",
       "      <th>Unnamed: 7</th>\n",
       "      <th>Unnamed: 8</th>\n",
       "      <th>Please rank the Star Wars films in order of preference with 1 being your favorite film in the franchise and 6 being your least favorite film.</th>\n",
       "      <th>Unnamed: 10</th>\n",
       "      <th>Unnamed: 11</th>\n",
       "      <th>Unnamed: 12</th>\n",
       "      <th>Unnamed: 13</th>\n",
       "      <th>Unnamed: 14</th>\n",
       "      <th>Please state whether you view the following characters favorably, unfavorably, or are unfamiliar with him/her.</th>\n",
       "      <th>Unnamed: 16</th>\n",
       "      <th>Unnamed: 17</th>\n",
       "      <th>Unnamed: 18</th>\n",
       "      <th>Unnamed: 19</th>\n",
       "      <th>Unnamed: 20</th>\n",
       "      <th>Unnamed: 21</th>\n",
       "      <th>Unnamed: 22</th>\n",
       "      <th>Unnamed: 23</th>\n",
       "      <th>Unnamed: 24</th>\n",
       "      <th>Unnamed: 25</th>\n",
       "      <th>Unnamed: 26</th>\n",
       "      <th>Unnamed: 27</th>\n",
       "      <th>Unnamed: 28</th>\n",
       "      <th>Which character shot first?</th>\n",
       "      <th>Are you familiar with the Expanded Universe?</th>\n",
       "      <th>Do you consider yourself to be a fan of the Expanded Universe?ÂÃ¦</th>\n",
       "      <th>Do you consider yourself to be a fan of the Star Trek franchise?</th>\n",
       "      <th>Gender</th>\n",
       "      <th>Age</th>\n",
       "      <th>Household Income</th>\n",
       "      <th>Education</th>\n",
       "      <th>Location (Census Region)</th>\n",
       "    </tr>\n",
       "  </thead>\n",
       "  <tbody>\n",
       "    <tr>\n",
       "      <th>0</th>\n",
       "      <td>NaN</td>\n",
       "      <td>Response</td>\n",
       "      <td>Response</td>\n",
       "      <td>Star Wars: Episode I  The Phantom Menace</td>\n",
       "      <td>Star Wars: Episode II  Attack of the Clones</td>\n",
       "      <td>Star Wars: Episode III  Revenge of the Sith</td>\n",
       "      <td>Star Wars: Episode IV  A New Hope</td>\n",
       "      <td>Star Wars: Episode V The Empire Strikes Back</td>\n",
       "      <td>Star Wars: Episode VI Return of the Jedi</td>\n",
       "      <td>Star Wars: Episode I  The Phantom Menace</td>\n",
       "      <td>Star Wars: Episode II  Attack of the Clones</td>\n",
       "      <td>Star Wars: Episode III  Revenge of the Sith</td>\n",
       "      <td>Star Wars: Episode IV  A New Hope</td>\n",
       "      <td>Star Wars: Episode V The Empire Strikes Back</td>\n",
       "      <td>Star Wars: Episode VI Return of the Jedi</td>\n",
       "      <td>Han Solo</td>\n",
       "      <td>Luke Skywalker</td>\n",
       "      <td>Princess Leia Organa</td>\n",
       "      <td>Anakin Skywalker</td>\n",
       "      <td>Obi Wan Kenobi</td>\n",
       "      <td>Emperor Palpatine</td>\n",
       "      <td>Darth Vader</td>\n",
       "      <td>Lando Calrissian</td>\n",
       "      <td>Boba Fett</td>\n",
       "      <td>C-3P0</td>\n",
       "      <td>R2 D2</td>\n",
       "      <td>Jar Jar Binks</td>\n",
       "      <td>Padme Amidala</td>\n",
       "      <td>Yoda</td>\n",
       "      <td>Response</td>\n",
       "      <td>Response</td>\n",
       "      <td>Response</td>\n",
       "      <td>Response</td>\n",
       "      <td>Response</td>\n",
       "      <td>Response</td>\n",
       "      <td>Response</td>\n",
       "      <td>Response</td>\n",
       "      <td>Response</td>\n",
       "    </tr>\n",
       "    <tr>\n",
       "      <th>1</th>\n",
       "      <td>3.292880e+09</td>\n",
       "      <td>Yes</td>\n",
       "      <td>Yes</td>\n",
       "      <td>Star Wars: Episode I  The Phantom Menace</td>\n",
       "      <td>Star Wars: Episode II  Attack of the Clones</td>\n",
       "      <td>Star Wars: Episode III  Revenge of the Sith</td>\n",
       "      <td>Star Wars: Episode IV  A New Hope</td>\n",
       "      <td>Star Wars: Episode V The Empire Strikes Back</td>\n",
       "      <td>Star Wars: Episode VI Return of the Jedi</td>\n",
       "      <td>3</td>\n",
       "      <td>2</td>\n",
       "      <td>1</td>\n",
       "      <td>4</td>\n",
       "      <td>5</td>\n",
       "      <td>6</td>\n",
       "      <td>Very favorably</td>\n",
       "      <td>Very favorably</td>\n",
       "      <td>Very favorably</td>\n",
       "      <td>Very favorably</td>\n",
       "      <td>Very favorably</td>\n",
       "      <td>Very favorably</td>\n",
       "      <td>Very favorably</td>\n",
       "      <td>Unfamiliar (N/A)</td>\n",
       "      <td>Unfamiliar (N/A)</td>\n",
       "      <td>Very favorably</td>\n",
       "      <td>Very favorably</td>\n",
       "      <td>Very favorably</td>\n",
       "      <td>Very favorably</td>\n",
       "      <td>Very favorably</td>\n",
       "      <td>I don't understand this question</td>\n",
       "      <td>Yes</td>\n",
       "      <td>No</td>\n",
       "      <td>No</td>\n",
       "      <td>Male</td>\n",
       "      <td>18-29</td>\n",
       "      <td>NaN</td>\n",
       "      <td>High school degree</td>\n",
       "      <td>South Atlantic</td>\n",
       "    </tr>\n",
       "    <tr>\n",
       "      <th>2</th>\n",
       "      <td>3.292880e+09</td>\n",
       "      <td>No</td>\n",
       "      <td>NaN</td>\n",
       "      <td>NaN</td>\n",
       "      <td>NaN</td>\n",
       "      <td>NaN</td>\n",
       "      <td>NaN</td>\n",
       "      <td>NaN</td>\n",
       "      <td>NaN</td>\n",
       "      <td>NaN</td>\n",
       "      <td>NaN</td>\n",
       "      <td>NaN</td>\n",
       "      <td>NaN</td>\n",
       "      <td>NaN</td>\n",
       "      <td>NaN</td>\n",
       "      <td>NaN</td>\n",
       "      <td>NaN</td>\n",
       "      <td>NaN</td>\n",
       "      <td>NaN</td>\n",
       "      <td>NaN</td>\n",
       "      <td>NaN</td>\n",
       "      <td>NaN</td>\n",
       "      <td>NaN</td>\n",
       "      <td>NaN</td>\n",
       "      <td>NaN</td>\n",
       "      <td>NaN</td>\n",
       "      <td>NaN</td>\n",
       "      <td>NaN</td>\n",
       "      <td>NaN</td>\n",
       "      <td>NaN</td>\n",
       "      <td>NaN</td>\n",
       "      <td>NaN</td>\n",
       "      <td>Yes</td>\n",
       "      <td>Male</td>\n",
       "      <td>18-29</td>\n",
       "      <td>$0 - $24,999</td>\n",
       "      <td>Bachelor degree</td>\n",
       "      <td>West South Central</td>\n",
       "    </tr>\n",
       "    <tr>\n",
       "      <th>3</th>\n",
       "      <td>3.292765e+09</td>\n",
       "      <td>Yes</td>\n",
       "      <td>No</td>\n",
       "      <td>Star Wars: Episode I  The Phantom Menace</td>\n",
       "      <td>Star Wars: Episode II  Attack of the Clones</td>\n",
       "      <td>Star Wars: Episode III  Revenge of the Sith</td>\n",
       "      <td>NaN</td>\n",
       "      <td>NaN</td>\n",
       "      <td>NaN</td>\n",
       "      <td>1</td>\n",
       "      <td>2</td>\n",
       "      <td>3</td>\n",
       "      <td>4</td>\n",
       "      <td>5</td>\n",
       "      <td>6</td>\n",
       "      <td>Somewhat favorably</td>\n",
       "      <td>Somewhat favorably</td>\n",
       "      <td>Somewhat favorably</td>\n",
       "      <td>Somewhat favorably</td>\n",
       "      <td>Somewhat favorably</td>\n",
       "      <td>Unfamiliar (N/A)</td>\n",
       "      <td>Unfamiliar (N/A)</td>\n",
       "      <td>Unfamiliar (N/A)</td>\n",
       "      <td>Unfamiliar (N/A)</td>\n",
       "      <td>Unfamiliar (N/A)</td>\n",
       "      <td>Unfamiliar (N/A)</td>\n",
       "      <td>Unfamiliar (N/A)</td>\n",
       "      <td>Unfamiliar (N/A)</td>\n",
       "      <td>Unfamiliar (N/A)</td>\n",
       "      <td>I don't understand this question</td>\n",
       "      <td>No</td>\n",
       "      <td>NaN</td>\n",
       "      <td>No</td>\n",
       "      <td>Male</td>\n",
       "      <td>18-29</td>\n",
       "      <td>$0 - $24,999</td>\n",
       "      <td>High school degree</td>\n",
       "      <td>West North Central</td>\n",
       "    </tr>\n",
       "    <tr>\n",
       "      <th>4</th>\n",
       "      <td>3.292763e+09</td>\n",
       "      <td>Yes</td>\n",
       "      <td>Yes</td>\n",
       "      <td>Star Wars: Episode I  The Phantom Menace</td>\n",
       "      <td>Star Wars: Episode II  Attack of the Clones</td>\n",
       "      <td>Star Wars: Episode III  Revenge of the Sith</td>\n",
       "      <td>Star Wars: Episode IV  A New Hope</td>\n",
       "      <td>Star Wars: Episode V The Empire Strikes Back</td>\n",
       "      <td>Star Wars: Episode VI Return of the Jedi</td>\n",
       "      <td>5</td>\n",
       "      <td>6</td>\n",
       "      <td>1</td>\n",
       "      <td>2</td>\n",
       "      <td>4</td>\n",
       "      <td>3</td>\n",
       "      <td>Very favorably</td>\n",
       "      <td>Very favorably</td>\n",
       "      <td>Very favorably</td>\n",
       "      <td>Very favorably</td>\n",
       "      <td>Very favorably</td>\n",
       "      <td>Somewhat favorably</td>\n",
       "      <td>Very favorably</td>\n",
       "      <td>Somewhat favorably</td>\n",
       "      <td>Somewhat unfavorably</td>\n",
       "      <td>Very favorably</td>\n",
       "      <td>Very favorably</td>\n",
       "      <td>Very favorably</td>\n",
       "      <td>Very favorably</td>\n",
       "      <td>Very favorably</td>\n",
       "      <td>I don't understand this question</td>\n",
       "      <td>No</td>\n",
       "      <td>NaN</td>\n",
       "      <td>Yes</td>\n",
       "      <td>Male</td>\n",
       "      <td>18-29</td>\n",
       "      <td>$100,000 - $149,999</td>\n",
       "      <td>Some college or Associate degree</td>\n",
       "      <td>West North Central</td>\n",
       "    </tr>\n",
       "  </tbody>\n",
       "</table>\n",
       "</div>"
      ],
      "text/plain": [
       "   RespondentID Have you seen any of the 6 films in the Star Wars franchise?  \\\n",
       "0           NaN                                           Response             \n",
       "1  3.292880e+09                                                Yes             \n",
       "2  3.292880e+09                                                 No             \n",
       "3  3.292765e+09                                                Yes             \n",
       "4  3.292763e+09                                                Yes             \n",
       "\n",
       "  Do you consider yourself to be a fan of the Star Wars film franchise?  \\\n",
       "0                                           Response                      \n",
       "1                                                Yes                      \n",
       "2                                                NaN                      \n",
       "3                                                 No                      \n",
       "4                                                Yes                      \n",
       "\n",
       "  Which of the following Star Wars films have you seen? Please select all that apply.  \\\n",
       "0           Star Wars: Episode I  The Phantom Menace                                    \n",
       "1           Star Wars: Episode I  The Phantom Menace                                    \n",
       "2                                                NaN                                    \n",
       "3           Star Wars: Episode I  The Phantom Menace                                    \n",
       "4           Star Wars: Episode I  The Phantom Menace                                    \n",
       "\n",
       "                                    Unnamed: 4  \\\n",
       "0  Star Wars: Episode II  Attack of the Clones   \n",
       "1  Star Wars: Episode II  Attack of the Clones   \n",
       "2                                          NaN   \n",
       "3  Star Wars: Episode II  Attack of the Clones   \n",
       "4  Star Wars: Episode II  Attack of the Clones   \n",
       "\n",
       "                                    Unnamed: 5  \\\n",
       "0  Star Wars: Episode III  Revenge of the Sith   \n",
       "1  Star Wars: Episode III  Revenge of the Sith   \n",
       "2                                          NaN   \n",
       "3  Star Wars: Episode III  Revenge of the Sith   \n",
       "4  Star Wars: Episode III  Revenge of the Sith   \n",
       "\n",
       "                          Unnamed: 6  \\\n",
       "0  Star Wars: Episode IV  A New Hope   \n",
       "1  Star Wars: Episode IV  A New Hope   \n",
       "2                                NaN   \n",
       "3                                NaN   \n",
       "4  Star Wars: Episode IV  A New Hope   \n",
       "\n",
       "                                     Unnamed: 7  \\\n",
       "0  Star Wars: Episode V The Empire Strikes Back   \n",
       "1  Star Wars: Episode V The Empire Strikes Back   \n",
       "2                                           NaN   \n",
       "3                                           NaN   \n",
       "4  Star Wars: Episode V The Empire Strikes Back   \n",
       "\n",
       "                                 Unnamed: 8  \\\n",
       "0  Star Wars: Episode VI Return of the Jedi   \n",
       "1  Star Wars: Episode VI Return of the Jedi   \n",
       "2                                       NaN   \n",
       "3                                       NaN   \n",
       "4  Star Wars: Episode VI Return of the Jedi   \n",
       "\n",
       "  Please rank the Star Wars films in order of preference with 1 being your favorite film in the franchise and 6 being your least favorite film.  \\\n",
       "0           Star Wars: Episode I  The Phantom Menace                                                                                              \n",
       "1                                                  3                                                                                              \n",
       "2                                                NaN                                                                                              \n",
       "3                                                  1                                                                                              \n",
       "4                                                  5                                                                                              \n",
       "\n",
       "                                   Unnamed: 10  \\\n",
       "0  Star Wars: Episode II  Attack of the Clones   \n",
       "1                                            2   \n",
       "2                                          NaN   \n",
       "3                                            2   \n",
       "4                                            6   \n",
       "\n",
       "                                   Unnamed: 11  \\\n",
       "0  Star Wars: Episode III  Revenge of the Sith   \n",
       "1                                            1   \n",
       "2                                          NaN   \n",
       "3                                            3   \n",
       "4                                            1   \n",
       "\n",
       "                         Unnamed: 12  \\\n",
       "0  Star Wars: Episode IV  A New Hope   \n",
       "1                                  4   \n",
       "2                                NaN   \n",
       "3                                  4   \n",
       "4                                  2   \n",
       "\n",
       "                                    Unnamed: 13  \\\n",
       "0  Star Wars: Episode V The Empire Strikes Back   \n",
       "1                                             5   \n",
       "2                                           NaN   \n",
       "3                                             5   \n",
       "4                                             4   \n",
       "\n",
       "                                Unnamed: 14  \\\n",
       "0  Star Wars: Episode VI Return of the Jedi   \n",
       "1                                         6   \n",
       "2                                       NaN   \n",
       "3                                         6   \n",
       "4                                         3   \n",
       "\n",
       "  Please state whether you view the following characters favorably, unfavorably, or are unfamiliar with him/her.  \\\n",
       "0                                           Han Solo                                                               \n",
       "1                                     Very favorably                                                               \n",
       "2                                                NaN                                                               \n",
       "3                                 Somewhat favorably                                                               \n",
       "4                                     Very favorably                                                               \n",
       "\n",
       "          Unnamed: 16           Unnamed: 17         Unnamed: 18  \\\n",
       "0      Luke Skywalker  Princess Leia Organa    Anakin Skywalker   \n",
       "1      Very favorably        Very favorably      Very favorably   \n",
       "2                 NaN                   NaN                 NaN   \n",
       "3  Somewhat favorably    Somewhat favorably  Somewhat favorably   \n",
       "4      Very favorably        Very favorably      Very favorably   \n",
       "\n",
       "          Unnamed: 19         Unnamed: 20       Unnamed: 21  \\\n",
       "0      Obi Wan Kenobi   Emperor Palpatine       Darth Vader   \n",
       "1      Very favorably      Very favorably    Very favorably   \n",
       "2                 NaN                 NaN               NaN   \n",
       "3  Somewhat favorably    Unfamiliar (N/A)  Unfamiliar (N/A)   \n",
       "4      Very favorably  Somewhat favorably    Very favorably   \n",
       "\n",
       "          Unnamed: 22           Unnamed: 23       Unnamed: 24  \\\n",
       "0    Lando Calrissian             Boba Fett             C-3P0   \n",
       "1    Unfamiliar (N/A)      Unfamiliar (N/A)    Very favorably   \n",
       "2                 NaN                   NaN               NaN   \n",
       "3    Unfamiliar (N/A)      Unfamiliar (N/A)  Unfamiliar (N/A)   \n",
       "4  Somewhat favorably  Somewhat unfavorably    Very favorably   \n",
       "\n",
       "        Unnamed: 25       Unnamed: 26       Unnamed: 27       Unnamed: 28  \\\n",
       "0             R2 D2     Jar Jar Binks     Padme Amidala              Yoda   \n",
       "1    Very favorably    Very favorably    Very favorably    Very favorably   \n",
       "2               NaN               NaN               NaN               NaN   \n",
       "3  Unfamiliar (N/A)  Unfamiliar (N/A)  Unfamiliar (N/A)  Unfamiliar (N/A)   \n",
       "4    Very favorably    Very favorably    Very favorably    Very favorably   \n",
       "\n",
       "        Which character shot first?  \\\n",
       "0                          Response   \n",
       "1  I don't understand this question   \n",
       "2                               NaN   \n",
       "3  I don't understand this question   \n",
       "4  I don't understand this question   \n",
       "\n",
       "  Are you familiar with the Expanded Universe?  \\\n",
       "0                                     Response   \n",
       "1                                          Yes   \n",
       "2                                          NaN   \n",
       "3                                           No   \n",
       "4                                           No   \n",
       "\n",
       "  Do you consider yourself to be a fan of the Expanded Universe?ÂÃ¦  \\\n",
       "0                                           Response                   \n",
       "1                                                 No                   \n",
       "2                                                NaN                   \n",
       "3                                                NaN                   \n",
       "4                                                NaN                   \n",
       "\n",
       "  Do you consider yourself to be a fan of the Star Trek franchise?    Gender  \\\n",
       "0                                           Response                Response   \n",
       "1                                                 No                    Male   \n",
       "2                                                Yes                    Male   \n",
       "3                                                 No                    Male   \n",
       "4                                                Yes                    Male   \n",
       "\n",
       "        Age     Household Income                         Education  \\\n",
       "0  Response             Response                          Response   \n",
       "1     18-29                  NaN                High school degree   \n",
       "2     18-29         $0 - $24,999                   Bachelor degree   \n",
       "3     18-29         $0 - $24,999                High school degree   \n",
       "4     18-29  $100,000 - $149,999  Some college or Associate degree   \n",
       "\n",
       "  Location (Census Region)  \n",
       "0                 Response  \n",
       "1           South Atlantic  \n",
       "2       West South Central  \n",
       "3       West North Central  \n",
       "4       West North Central  "
      ]
     },
     "execution_count": 52,
     "metadata": {},
     "output_type": "execute_result"
    }
   ],
   "source": [
    "star_wars.head()"
   ]
  },
  {
   "cell_type": "markdown",
   "metadata": {},
   "source": [
    "* `RespondentID` - An anonymized ID for the respondent (person taking the survey)\n",
    "* `Gender` - The respondent's gender\n",
    "* `Age` - The respondent's age\n",
    "* `Household Income` - The respondent's income\n",
    "* `Education` - The respondent's education level\n",
    "* `Location (Census Region)` - The respondent's location\n",
    "* `Have you seen any of the 6 films in the Star Wars franchise?` - Has a Yes or No response\n",
    "* `Do you consider yourself to be a fan of the Star Wars film franchise?` - Has a Yes or No response"
   ]
  },
  {
   "cell_type": "code",
   "execution_count": 53,
   "metadata": {},
   "outputs": [
    {
     "name": "stdout",
     "output_type": "stream",
     "text": [
      "<class 'pandas.core.frame.DataFrame'>\n",
      "RangeIndex: 1187 entries, 0 to 1186\n",
      "Data columns (total 38 columns):\n",
      "RespondentID                                                                                                                                     1186 non-null float64\n",
      "Have you seen any of the 6 films in the Star Wars franchise?                                                                                     1187 non-null object\n",
      "Do you consider yourself to be a fan of the Star Wars film franchise?                                                                            837 non-null object\n",
      "Which of the following Star Wars films have you seen? Please select all that apply.                                                              674 non-null object\n",
      "Unnamed: 4                                                                                                                                       572 non-null object\n",
      "Unnamed: 5                                                                                                                                       551 non-null object\n",
      "Unnamed: 6                                                                                                                                       608 non-null object\n",
      "Unnamed: 7                                                                                                                                       759 non-null object\n",
      "Unnamed: 8                                                                                                                                       739 non-null object\n",
      "Please rank the Star Wars films in order of preference with 1 being your favorite film in the franchise and 6 being your least favorite film.    836 non-null object\n",
      "Unnamed: 10                                                                                                                                      837 non-null object\n",
      "Unnamed: 11                                                                                                                                      836 non-null object\n",
      "Unnamed: 12                                                                                                                                      837 non-null object\n",
      "Unnamed: 13                                                                                                                                      837 non-null object\n",
      "Unnamed: 14                                                                                                                                      837 non-null object\n",
      "Please state whether you view the following characters favorably, unfavorably, or are unfamiliar with him/her.                                   830 non-null object\n",
      "Unnamed: 16                                                                                                                                      832 non-null object\n",
      "Unnamed: 17                                                                                                                                      832 non-null object\n",
      "Unnamed: 18                                                                                                                                      824 non-null object\n",
      "Unnamed: 19                                                                                                                                      826 non-null object\n",
      "Unnamed: 20                                                                                                                                      815 non-null object\n",
      "Unnamed: 21                                                                                                                                      827 non-null object\n",
      "Unnamed: 22                                                                                                                                      821 non-null object\n",
      "Unnamed: 23                                                                                                                                      813 non-null object\n",
      "Unnamed: 24                                                                                                                                      828 non-null object\n",
      "Unnamed: 25                                                                                                                                      831 non-null object\n",
      "Unnamed: 26                                                                                                                                      822 non-null object\n",
      "Unnamed: 27                                                                                                                                      815 non-null object\n",
      "Unnamed: 28                                                                                                                                      827 non-null object\n",
      "Which character shot first?                                                                                                                      829 non-null object\n",
      "Are you familiar with the Expanded Universe?                                                                                                     829 non-null object\n",
      "Do you consider yourself to be a fan of the Expanded Universe?ÂÃ¦                                                                               214 non-null object\n",
      "Do you consider yourself to be a fan of the Star Trek franchise?                                                                                 1069 non-null object\n",
      "Gender                                                                                                                                           1047 non-null object\n",
      "Age                                                                                                                                              1047 non-null object\n",
      "Household Income                                                                                                                                 859 non-null object\n",
      "Education                                                                                                                                        1037 non-null object\n",
      "Location (Census Region)                                                                                                                         1044 non-null object\n",
      "dtypes: float64(1), object(37)\n",
      "memory usage: 352.5+ KB\n"
     ]
    }
   ],
   "source": [
    "star_wars.info()"
   ]
  },
  {
   "cell_type": "code",
   "execution_count": 54,
   "metadata": {},
   "outputs": [
    {
     "data": {
      "text/plain": [
       "RespondentID                                                                                                                                       1\n",
       "Have you seen any of the 6 films in the Star Wars franchise?                                                                                       0\n",
       "Do you consider yourself to be a fan of the Star Wars film franchise?                                                                            350\n",
       "Which of the following Star Wars films have you seen? Please select all that apply.                                                              513\n",
       "Unnamed: 4                                                                                                                                       615\n",
       "Unnamed: 5                                                                                                                                       636\n",
       "Unnamed: 6                                                                                                                                       579\n",
       "Unnamed: 7                                                                                                                                       428\n",
       "Unnamed: 8                                                                                                                                       448\n",
       "Please rank the Star Wars films in order of preference with 1 being your favorite film in the franchise and 6 being your least favorite film.    351\n",
       "Unnamed: 10                                                                                                                                      350\n",
       "Unnamed: 11                                                                                                                                      351\n",
       "Unnamed: 12                                                                                                                                      350\n",
       "Unnamed: 13                                                                                                                                      350\n",
       "Unnamed: 14                                                                                                                                      350\n",
       "Please state whether you view the following characters favorably, unfavorably, or are unfamiliar with him/her.                                   357\n",
       "Unnamed: 16                                                                                                                                      355\n",
       "Unnamed: 17                                                                                                                                      355\n",
       "Unnamed: 18                                                                                                                                      363\n",
       "Unnamed: 19                                                                                                                                      361\n",
       "Unnamed: 20                                                                                                                                      372\n",
       "Unnamed: 21                                                                                                                                      360\n",
       "Unnamed: 22                                                                                                                                      366\n",
       "Unnamed: 23                                                                                                                                      374\n",
       "Unnamed: 24                                                                                                                                      359\n",
       "Unnamed: 25                                                                                                                                      356\n",
       "Unnamed: 26                                                                                                                                      365\n",
       "Unnamed: 27                                                                                                                                      372\n",
       "Unnamed: 28                                                                                                                                      360\n",
       "Which character shot first?                                                                                                                      358\n",
       "Are you familiar with the Expanded Universe?                                                                                                     358\n",
       "Do you consider yourself to be a fan of the Expanded Universe?ÂÃ¦                                                                               973\n",
       "Do you consider yourself to be a fan of the Star Trek franchise?                                                                                 118\n",
       "Gender                                                                                                                                           140\n",
       "Age                                                                                                                                              140\n",
       "Household Income                                                                                                                                 328\n",
       "Education                                                                                                                                        150\n",
       "Location (Census Region)                                                                                                                         143\n",
       "dtype: int64"
      ]
     },
     "execution_count": 54,
     "metadata": {},
     "output_type": "execute_result"
    }
   ],
   "source": [
    "star_wars.isnull().sum()"
   ]
  },
  {
   "cell_type": "code",
   "execution_count": 55,
   "metadata": {},
   "outputs": [],
   "source": [
    "star_wars.dropna(subset=['RespondentID'], inplace=True)"
   ]
  },
  {
   "cell_type": "code",
   "execution_count": 56,
   "metadata": {},
   "outputs": [
    {
     "data": {
      "text/plain": [
       "Yes    936\n",
       "No     250\n",
       "Name: Have you seen any of the 6 films in the Star Wars franchise?, dtype: int64"
      ]
     },
     "execution_count": 56,
     "metadata": {},
     "output_type": "execute_result"
    }
   ],
   "source": [
    "star_wars[\"Have you seen any of the 6 films in the Star Wars franchise?\"].value_counts()"
   ]
  },
  {
   "cell_type": "code",
   "execution_count": 57,
   "metadata": {},
   "outputs": [
    {
     "data": {
      "text/plain": [
       "Yes    552\n",
       "No     284\n",
       "Name: Do you consider yourself to be a fan of the Star Wars film franchise?, dtype: int64"
      ]
     },
     "execution_count": 57,
     "metadata": {},
     "output_type": "execute_result"
    }
   ],
   "source": [
    "star_wars[\"Do you consider yourself to be a fan of the Star Wars film franchise?\"].value_counts()"
   ]
  },
  {
   "cell_type": "code",
   "execution_count": 58,
   "metadata": {},
   "outputs": [],
   "source": [
    "mapping = {'Yes':True, 'No':False}"
   ]
  },
  {
   "cell_type": "code",
   "execution_count": 59,
   "metadata": {},
   "outputs": [],
   "source": [
    "star_wars[\"Have you seen any of the 6 films in the Star Wars franchise?\"] = star_wars[\"Have you seen any of the 6 films in the Star Wars franchise?\"].map(mapping)"
   ]
  },
  {
   "cell_type": "code",
   "execution_count": 60,
   "metadata": {},
   "outputs": [
    {
     "data": {
      "text/plain": [
       "True     936\n",
       "False    250\n",
       "Name: Have you seen any of the 6 films in the Star Wars franchise?, dtype: int64"
      ]
     },
     "execution_count": 60,
     "metadata": {},
     "output_type": "execute_result"
    }
   ],
   "source": [
    "star_wars[\"Have you seen any of the 6 films in the Star Wars franchise?\"].value_counts()"
   ]
  },
  {
   "cell_type": "code",
   "execution_count": 61,
   "metadata": {},
   "outputs": [],
   "source": [
    "star_wars[\"Do you consider yourself to be a fan of the Star Wars film franchise?\"] = star_wars[\"Do you consider yourself to be a fan of the Star Wars film franchise?\"].map(mapping)"
   ]
  },
  {
   "cell_type": "code",
   "execution_count": 62,
   "metadata": {},
   "outputs": [
    {
     "data": {
      "text/plain": [
       "True     552\n",
       "False    284\n",
       "Name: Do you consider yourself to be a fan of the Star Wars film franchise?, dtype: int64"
      ]
     },
     "execution_count": 62,
     "metadata": {},
     "output_type": "execute_result"
    }
   ],
   "source": [
    "star_wars[\"Do you consider yourself to be a fan of the Star Wars film franchise?\"].value_counts()"
   ]
  },
  {
   "cell_type": "markdown",
   "metadata": {},
   "source": [
    "* The next six column is,\n",
    "        - Which of the following Star Wars films have you seen? Please select all that apply.: Whether or not the respondent saw Star Wars: Episode I The Phantom Menace.\n",
    "        - Unnamed: 4: Whether or not the respondent saw Star Wars: Episode II Attack of the Clones.\n",
    "        - Unnamed: 5: Whether or not the respondent saw Star Wars: Episode III Revenge of the Sith.\n",
    "        - Unnamed: 6: Whether or not the respondent saw Star Wars: Episode IV A New Hope.\n",
    "        - Unnamed: 7: Whether or not the respondent saw Star Wars: Episode V The Empire Strikes Back.\n",
    "        - Unnamed: 8: Whether or not the respondent saw Star Wars: Episode VI Return of the Jedi.\n",
    "* If the value in a cell is the name of the movie, that means the respondent saw the movie. If the value is NaN, the respondent either didn't answer or didn't see the movie. We'll assume that they didn't see the movie."
   ]
  },
  {
   "cell_type": "code",
   "execution_count": 63,
   "metadata": {},
   "outputs": [],
   "source": [
    "movie_mapping = {\n",
    "    \"Star Wars: Episode I  The Phantom Menace\": True,\n",
    "    np.nan: False,\n",
    "    \"Star Wars: Episode II  Attack of the Clones\": True,\n",
    "    \"Star Wars: Episode III  Revenge of the Sith\": True,\n",
    "    \"Star Wars: Episode IV  A New Hope\": True,\n",
    "    \"Star Wars: Episode V The Empire Strikes Back\": True,\n",
    "    \"Star Wars: Episode VI Return of the Jedi\": True\n",
    "}"
   ]
  },
  {
   "cell_type": "code",
   "execution_count": 64,
   "metadata": {},
   "outputs": [],
   "source": [
    "for col in star_wars.columns[3:9]:\n",
    "    star_wars[col] = star_wars[col].map(movie_mapping)"
   ]
  },
  {
   "cell_type": "code",
   "execution_count": 65,
   "metadata": {},
   "outputs": [],
   "source": [
    "star_wars = star_wars.rename(columns={\"Which of the following Star Wars films have you seen? Please select all that apply.\":\"seen_1\",\n",
    "                                     \"Unnamed: 4\": \"seen_2\",\n",
    "                                     \"Unnamed: 5\": \"seen_3\",\n",
    "                                     \"Unnamed: 6\": \"seen_4\",\n",
    "                                     \"Unnamed: 7\": \"seen_5\",\n",
    "                                     \"Unnamed: 8\": \"seen_6\"})"
   ]
  },
  {
   "cell_type": "code",
   "execution_count": 66,
   "metadata": {},
   "outputs": [
    {
     "data": {
      "text/html": [
       "<div>\n",
       "<style scoped>\n",
       "    .dataframe tbody tr th:only-of-type {\n",
       "        vertical-align: middle;\n",
       "    }\n",
       "\n",
       "    .dataframe tbody tr th {\n",
       "        vertical-align: top;\n",
       "    }\n",
       "\n",
       "    .dataframe thead th {\n",
       "        text-align: right;\n",
       "    }\n",
       "</style>\n",
       "<table border=\"1\" class=\"dataframe\">\n",
       "  <thead>\n",
       "    <tr style=\"text-align: right;\">\n",
       "      <th></th>\n",
       "      <th>RespondentID</th>\n",
       "      <th>Have you seen any of the 6 films in the Star Wars franchise?</th>\n",
       "      <th>Do you consider yourself to be a fan of the Star Wars film franchise?</th>\n",
       "      <th>seen_1</th>\n",
       "      <th>seen_2</th>\n",
       "      <th>seen_3</th>\n",
       "      <th>seen_4</th>\n",
       "      <th>seen_5</th>\n",
       "      <th>seen_6</th>\n",
       "      <th>Please rank the Star Wars films in order of preference with 1 being your favorite film in the franchise and 6 being your least favorite film.</th>\n",
       "      <th>Unnamed: 10</th>\n",
       "      <th>Unnamed: 11</th>\n",
       "      <th>Unnamed: 12</th>\n",
       "      <th>Unnamed: 13</th>\n",
       "      <th>Unnamed: 14</th>\n",
       "      <th>Please state whether you view the following characters favorably, unfavorably, or are unfamiliar with him/her.</th>\n",
       "      <th>Unnamed: 16</th>\n",
       "      <th>Unnamed: 17</th>\n",
       "      <th>Unnamed: 18</th>\n",
       "      <th>Unnamed: 19</th>\n",
       "      <th>Unnamed: 20</th>\n",
       "      <th>Unnamed: 21</th>\n",
       "      <th>Unnamed: 22</th>\n",
       "      <th>Unnamed: 23</th>\n",
       "      <th>Unnamed: 24</th>\n",
       "      <th>Unnamed: 25</th>\n",
       "      <th>Unnamed: 26</th>\n",
       "      <th>Unnamed: 27</th>\n",
       "      <th>Unnamed: 28</th>\n",
       "      <th>Which character shot first?</th>\n",
       "      <th>Are you familiar with the Expanded Universe?</th>\n",
       "      <th>Do you consider yourself to be a fan of the Expanded Universe?ÂÃ¦</th>\n",
       "      <th>Do you consider yourself to be a fan of the Star Trek franchise?</th>\n",
       "      <th>Gender</th>\n",
       "      <th>Age</th>\n",
       "      <th>Household Income</th>\n",
       "      <th>Education</th>\n",
       "      <th>Location (Census Region)</th>\n",
       "    </tr>\n",
       "  </thead>\n",
       "  <tbody>\n",
       "    <tr>\n",
       "      <th>1</th>\n",
       "      <td>3.292880e+09</td>\n",
       "      <td>True</td>\n",
       "      <td>True</td>\n",
       "      <td>True</td>\n",
       "      <td>True</td>\n",
       "      <td>True</td>\n",
       "      <td>True</td>\n",
       "      <td>True</td>\n",
       "      <td>True</td>\n",
       "      <td>3</td>\n",
       "      <td>2</td>\n",
       "      <td>1</td>\n",
       "      <td>4</td>\n",
       "      <td>5</td>\n",
       "      <td>6</td>\n",
       "      <td>Very favorably</td>\n",
       "      <td>Very favorably</td>\n",
       "      <td>Very favorably</td>\n",
       "      <td>Very favorably</td>\n",
       "      <td>Very favorably</td>\n",
       "      <td>Very favorably</td>\n",
       "      <td>Very favorably</td>\n",
       "      <td>Unfamiliar (N/A)</td>\n",
       "      <td>Unfamiliar (N/A)</td>\n",
       "      <td>Very favorably</td>\n",
       "      <td>Very favorably</td>\n",
       "      <td>Very favorably</td>\n",
       "      <td>Very favorably</td>\n",
       "      <td>Very favorably</td>\n",
       "      <td>I don't understand this question</td>\n",
       "      <td>Yes</td>\n",
       "      <td>No</td>\n",
       "      <td>No</td>\n",
       "      <td>Male</td>\n",
       "      <td>18-29</td>\n",
       "      <td>NaN</td>\n",
       "      <td>High school degree</td>\n",
       "      <td>South Atlantic</td>\n",
       "    </tr>\n",
       "    <tr>\n",
       "      <th>2</th>\n",
       "      <td>3.292880e+09</td>\n",
       "      <td>False</td>\n",
       "      <td>NaN</td>\n",
       "      <td>False</td>\n",
       "      <td>False</td>\n",
       "      <td>False</td>\n",
       "      <td>False</td>\n",
       "      <td>False</td>\n",
       "      <td>False</td>\n",
       "      <td>NaN</td>\n",
       "      <td>NaN</td>\n",
       "      <td>NaN</td>\n",
       "      <td>NaN</td>\n",
       "      <td>NaN</td>\n",
       "      <td>NaN</td>\n",
       "      <td>NaN</td>\n",
       "      <td>NaN</td>\n",
       "      <td>NaN</td>\n",
       "      <td>NaN</td>\n",
       "      <td>NaN</td>\n",
       "      <td>NaN</td>\n",
       "      <td>NaN</td>\n",
       "      <td>NaN</td>\n",
       "      <td>NaN</td>\n",
       "      <td>NaN</td>\n",
       "      <td>NaN</td>\n",
       "      <td>NaN</td>\n",
       "      <td>NaN</td>\n",
       "      <td>NaN</td>\n",
       "      <td>NaN</td>\n",
       "      <td>NaN</td>\n",
       "      <td>NaN</td>\n",
       "      <td>Yes</td>\n",
       "      <td>Male</td>\n",
       "      <td>18-29</td>\n",
       "      <td>$0 - $24,999</td>\n",
       "      <td>Bachelor degree</td>\n",
       "      <td>West South Central</td>\n",
       "    </tr>\n",
       "    <tr>\n",
       "      <th>3</th>\n",
       "      <td>3.292765e+09</td>\n",
       "      <td>True</td>\n",
       "      <td>False</td>\n",
       "      <td>True</td>\n",
       "      <td>True</td>\n",
       "      <td>True</td>\n",
       "      <td>False</td>\n",
       "      <td>False</td>\n",
       "      <td>False</td>\n",
       "      <td>1</td>\n",
       "      <td>2</td>\n",
       "      <td>3</td>\n",
       "      <td>4</td>\n",
       "      <td>5</td>\n",
       "      <td>6</td>\n",
       "      <td>Somewhat favorably</td>\n",
       "      <td>Somewhat favorably</td>\n",
       "      <td>Somewhat favorably</td>\n",
       "      <td>Somewhat favorably</td>\n",
       "      <td>Somewhat favorably</td>\n",
       "      <td>Unfamiliar (N/A)</td>\n",
       "      <td>Unfamiliar (N/A)</td>\n",
       "      <td>Unfamiliar (N/A)</td>\n",
       "      <td>Unfamiliar (N/A)</td>\n",
       "      <td>Unfamiliar (N/A)</td>\n",
       "      <td>Unfamiliar (N/A)</td>\n",
       "      <td>Unfamiliar (N/A)</td>\n",
       "      <td>Unfamiliar (N/A)</td>\n",
       "      <td>Unfamiliar (N/A)</td>\n",
       "      <td>I don't understand this question</td>\n",
       "      <td>No</td>\n",
       "      <td>NaN</td>\n",
       "      <td>No</td>\n",
       "      <td>Male</td>\n",
       "      <td>18-29</td>\n",
       "      <td>$0 - $24,999</td>\n",
       "      <td>High school degree</td>\n",
       "      <td>West North Central</td>\n",
       "    </tr>\n",
       "    <tr>\n",
       "      <th>4</th>\n",
       "      <td>3.292763e+09</td>\n",
       "      <td>True</td>\n",
       "      <td>True</td>\n",
       "      <td>True</td>\n",
       "      <td>True</td>\n",
       "      <td>True</td>\n",
       "      <td>True</td>\n",
       "      <td>True</td>\n",
       "      <td>True</td>\n",
       "      <td>5</td>\n",
       "      <td>6</td>\n",
       "      <td>1</td>\n",
       "      <td>2</td>\n",
       "      <td>4</td>\n",
       "      <td>3</td>\n",
       "      <td>Very favorably</td>\n",
       "      <td>Very favorably</td>\n",
       "      <td>Very favorably</td>\n",
       "      <td>Very favorably</td>\n",
       "      <td>Very favorably</td>\n",
       "      <td>Somewhat favorably</td>\n",
       "      <td>Very favorably</td>\n",
       "      <td>Somewhat favorably</td>\n",
       "      <td>Somewhat unfavorably</td>\n",
       "      <td>Very favorably</td>\n",
       "      <td>Very favorably</td>\n",
       "      <td>Very favorably</td>\n",
       "      <td>Very favorably</td>\n",
       "      <td>Very favorably</td>\n",
       "      <td>I don't understand this question</td>\n",
       "      <td>No</td>\n",
       "      <td>NaN</td>\n",
       "      <td>Yes</td>\n",
       "      <td>Male</td>\n",
       "      <td>18-29</td>\n",
       "      <td>$100,000 - $149,999</td>\n",
       "      <td>Some college or Associate degree</td>\n",
       "      <td>West North Central</td>\n",
       "    </tr>\n",
       "    <tr>\n",
       "      <th>5</th>\n",
       "      <td>3.292731e+09</td>\n",
       "      <td>True</td>\n",
       "      <td>True</td>\n",
       "      <td>True</td>\n",
       "      <td>True</td>\n",
       "      <td>True</td>\n",
       "      <td>True</td>\n",
       "      <td>True</td>\n",
       "      <td>True</td>\n",
       "      <td>5</td>\n",
       "      <td>4</td>\n",
       "      <td>6</td>\n",
       "      <td>2</td>\n",
       "      <td>1</td>\n",
       "      <td>3</td>\n",
       "      <td>Very favorably</td>\n",
       "      <td>Somewhat favorably</td>\n",
       "      <td>Somewhat favorably</td>\n",
       "      <td>Somewhat unfavorably</td>\n",
       "      <td>Very favorably</td>\n",
       "      <td>Very unfavorably</td>\n",
       "      <td>Somewhat favorably</td>\n",
       "      <td>Neither favorably nor unfavorably (neutral)</td>\n",
       "      <td>Very favorably</td>\n",
       "      <td>Somewhat favorably</td>\n",
       "      <td>Somewhat favorably</td>\n",
       "      <td>Very unfavorably</td>\n",
       "      <td>Somewhat favorably</td>\n",
       "      <td>Somewhat favorably</td>\n",
       "      <td>Greedo</td>\n",
       "      <td>Yes</td>\n",
       "      <td>No</td>\n",
       "      <td>No</td>\n",
       "      <td>Male</td>\n",
       "      <td>18-29</td>\n",
       "      <td>$100,000 - $149,999</td>\n",
       "      <td>Some college or Associate degree</td>\n",
       "      <td>West North Central</td>\n",
       "    </tr>\n",
       "  </tbody>\n",
       "</table>\n",
       "</div>"
      ],
      "text/plain": [
       "   RespondentID  Have you seen any of the 6 films in the Star Wars franchise?  \\\n",
       "1  3.292880e+09                                               True              \n",
       "2  3.292880e+09                                              False              \n",
       "3  3.292765e+09                                               True              \n",
       "4  3.292763e+09                                               True              \n",
       "5  3.292731e+09                                               True              \n",
       "\n",
       "  Do you consider yourself to be a fan of the Star Wars film franchise?  \\\n",
       "1                                               True                      \n",
       "2                                                NaN                      \n",
       "3                                              False                      \n",
       "4                                               True                      \n",
       "5                                               True                      \n",
       "\n",
       "   seen_1  seen_2  seen_3  seen_4  seen_5  seen_6  \\\n",
       "1    True    True    True    True    True    True   \n",
       "2   False   False   False   False   False   False   \n",
       "3    True    True    True   False   False   False   \n",
       "4    True    True    True    True    True    True   \n",
       "5    True    True    True    True    True    True   \n",
       "\n",
       "  Please rank the Star Wars films in order of preference with 1 being your favorite film in the franchise and 6 being your least favorite film.  \\\n",
       "1                                                  3                                                                                              \n",
       "2                                                NaN                                                                                              \n",
       "3                                                  1                                                                                              \n",
       "4                                                  5                                                                                              \n",
       "5                                                  5                                                                                              \n",
       "\n",
       "  Unnamed: 10 Unnamed: 11 Unnamed: 12 Unnamed: 13 Unnamed: 14  \\\n",
       "1           2           1           4           5           6   \n",
       "2         NaN         NaN         NaN         NaN         NaN   \n",
       "3           2           3           4           5           6   \n",
       "4           6           1           2           4           3   \n",
       "5           4           6           2           1           3   \n",
       "\n",
       "  Please state whether you view the following characters favorably, unfavorably, or are unfamiliar with him/her.  \\\n",
       "1                                     Very favorably                                                               \n",
       "2                                                NaN                                                               \n",
       "3                                 Somewhat favorably                                                               \n",
       "4                                     Very favorably                                                               \n",
       "5                                     Very favorably                                                               \n",
       "\n",
       "          Unnamed: 16         Unnamed: 17           Unnamed: 18  \\\n",
       "1      Very favorably      Very favorably        Very favorably   \n",
       "2                 NaN                 NaN                   NaN   \n",
       "3  Somewhat favorably  Somewhat favorably    Somewhat favorably   \n",
       "4      Very favorably      Very favorably        Very favorably   \n",
       "5  Somewhat favorably  Somewhat favorably  Somewhat unfavorably   \n",
       "\n",
       "          Unnamed: 19         Unnamed: 20         Unnamed: 21  \\\n",
       "1      Very favorably      Very favorably      Very favorably   \n",
       "2                 NaN                 NaN                 NaN   \n",
       "3  Somewhat favorably    Unfamiliar (N/A)    Unfamiliar (N/A)   \n",
       "4      Very favorably  Somewhat favorably      Very favorably   \n",
       "5      Very favorably    Very unfavorably  Somewhat favorably   \n",
       "\n",
       "                                   Unnamed: 22           Unnamed: 23  \\\n",
       "1                             Unfamiliar (N/A)      Unfamiliar (N/A)   \n",
       "2                                          NaN                   NaN   \n",
       "3                             Unfamiliar (N/A)      Unfamiliar (N/A)   \n",
       "4                           Somewhat favorably  Somewhat unfavorably   \n",
       "5  Neither favorably nor unfavorably (neutral)        Very favorably   \n",
       "\n",
       "          Unnamed: 24         Unnamed: 25       Unnamed: 26  \\\n",
       "1      Very favorably      Very favorably    Very favorably   \n",
       "2                 NaN                 NaN               NaN   \n",
       "3    Unfamiliar (N/A)    Unfamiliar (N/A)  Unfamiliar (N/A)   \n",
       "4      Very favorably      Very favorably    Very favorably   \n",
       "5  Somewhat favorably  Somewhat favorably  Very unfavorably   \n",
       "\n",
       "          Unnamed: 27         Unnamed: 28       Which character shot first?  \\\n",
       "1      Very favorably      Very favorably  I don't understand this question   \n",
       "2                 NaN                 NaN                               NaN   \n",
       "3    Unfamiliar (N/A)    Unfamiliar (N/A)  I don't understand this question   \n",
       "4      Very favorably      Very favorably  I don't understand this question   \n",
       "5  Somewhat favorably  Somewhat favorably                            Greedo   \n",
       "\n",
       "  Are you familiar with the Expanded Universe?  \\\n",
       "1                                          Yes   \n",
       "2                                          NaN   \n",
       "3                                           No   \n",
       "4                                           No   \n",
       "5                                          Yes   \n",
       "\n",
       "  Do you consider yourself to be a fan of the Expanded Universe?ÂÃ¦  \\\n",
       "1                                                 No                   \n",
       "2                                                NaN                   \n",
       "3                                                NaN                   \n",
       "4                                                NaN                   \n",
       "5                                                 No                   \n",
       "\n",
       "  Do you consider yourself to be a fan of the Star Trek franchise? Gender  \\\n",
       "1                                                 No                 Male   \n",
       "2                                                Yes                 Male   \n",
       "3                                                 No                 Male   \n",
       "4                                                Yes                 Male   \n",
       "5                                                 No                 Male   \n",
       "\n",
       "     Age     Household Income                         Education  \\\n",
       "1  18-29                  NaN                High school degree   \n",
       "2  18-29         $0 - $24,999                   Bachelor degree   \n",
       "3  18-29         $0 - $24,999                High school degree   \n",
       "4  18-29  $100,000 - $149,999  Some college or Associate degree   \n",
       "5  18-29  $100,000 - $149,999  Some college or Associate degree   \n",
       "\n",
       "  Location (Census Region)  \n",
       "1           South Atlantic  \n",
       "2       West South Central  \n",
       "3       West North Central  \n",
       "4       West North Central  \n",
       "5       West North Central  "
      ]
     },
     "execution_count": 66,
     "metadata": {},
     "output_type": "execute_result"
    }
   ],
   "source": [
    "star_wars.head()"
   ]
  },
  {
   "cell_type": "markdown",
   "metadata": {},
   "source": [
    "### Ranking"
   ]
  },
  {
   "cell_type": "markdown",
   "metadata": {},
   "source": [
    "* The next six columns ask the respondent to rank the Star Wars movies in order of least favorite to most favorite. 1 means the film was the most favorite, and 6 means it was the least favorite. Each of the following columns can contain the value 1, 2, 3, 4, 5, 6, or NaN:\n",
    "\n",
    "* Please rank the Star Wars films in order of preference with 1 being your favorite film in the franchise and 6 being your least favorite film. - How much the respondent liked Star Wars: Episode I The Phantom Menace\n",
    "* Unnamed: 10 - How much the respondent liked Star Wars: Episode II Attack of the Clones\n",
    "* Unnamed: 11 - How much the respondent liked Star Wars: Episode III Revenge of the Sith\n",
    "* Unnamed: 12 - How much the respondent liked Star Wars: Episode IV A New Hope\n",
    "* Unnamed: 13 - How much the respondent liked Star Wars: Episode V The Empire Strikes Back\n",
    "* Unnamed: 14 - How much the respondent liked Star Wars: Episode VI Return of the Jedi"
   ]
  },
  {
   "cell_type": "code",
   "execution_count": 67,
   "metadata": {},
   "outputs": [],
   "source": [
    "star_wars.iloc[:, 9:15] = star_wars.iloc[:, 9:15].astype(float)"
   ]
  },
  {
   "cell_type": "code",
   "execution_count": 68,
   "metadata": {},
   "outputs": [],
   "source": [
    "star_wars = star_wars.rename(columns={\"Please rank the Star Wars films in order of preference with 1 being your favorite film in the franchise and 6 being your least favorite film.\": \"ranking_1\",\n",
    "        \"Unnamed: 10\": \"ranking_2\",\n",
    "        \"Unnamed: 11\": \"ranking_3\",\n",
    "        \"Unnamed: 12\": \"ranking_4\",\n",
    "        \"Unnamed: 13\": \"ranking_5\",\n",
    "        \"Unnamed: 14\": \"ranking_6\"})"
   ]
  },
  {
   "cell_type": "code",
   "execution_count": 69,
   "metadata": {},
   "outputs": [
    {
     "data": {
      "text/html": [
       "<div>\n",
       "<style scoped>\n",
       "    .dataframe tbody tr th:only-of-type {\n",
       "        vertical-align: middle;\n",
       "    }\n",
       "\n",
       "    .dataframe tbody tr th {\n",
       "        vertical-align: top;\n",
       "    }\n",
       "\n",
       "    .dataframe thead th {\n",
       "        text-align: right;\n",
       "    }\n",
       "</style>\n",
       "<table border=\"1\" class=\"dataframe\">\n",
       "  <thead>\n",
       "    <tr style=\"text-align: right;\">\n",
       "      <th></th>\n",
       "      <th>RespondentID</th>\n",
       "      <th>Have you seen any of the 6 films in the Star Wars franchise?</th>\n",
       "      <th>Do you consider yourself to be a fan of the Star Wars film franchise?</th>\n",
       "      <th>seen_1</th>\n",
       "      <th>seen_2</th>\n",
       "      <th>seen_3</th>\n",
       "      <th>seen_4</th>\n",
       "      <th>seen_5</th>\n",
       "      <th>seen_6</th>\n",
       "      <th>ranking_1</th>\n",
       "      <th>ranking_2</th>\n",
       "      <th>ranking_3</th>\n",
       "      <th>ranking_4</th>\n",
       "      <th>ranking_5</th>\n",
       "      <th>ranking_6</th>\n",
       "      <th>Please state whether you view the following characters favorably, unfavorably, or are unfamiliar with him/her.</th>\n",
       "      <th>Unnamed: 16</th>\n",
       "      <th>Unnamed: 17</th>\n",
       "      <th>Unnamed: 18</th>\n",
       "      <th>Unnamed: 19</th>\n",
       "      <th>Unnamed: 20</th>\n",
       "      <th>Unnamed: 21</th>\n",
       "      <th>Unnamed: 22</th>\n",
       "      <th>Unnamed: 23</th>\n",
       "      <th>Unnamed: 24</th>\n",
       "      <th>Unnamed: 25</th>\n",
       "      <th>Unnamed: 26</th>\n",
       "      <th>Unnamed: 27</th>\n",
       "      <th>Unnamed: 28</th>\n",
       "      <th>Which character shot first?</th>\n",
       "      <th>Are you familiar with the Expanded Universe?</th>\n",
       "      <th>Do you consider yourself to be a fan of the Expanded Universe?ÂÃ¦</th>\n",
       "      <th>Do you consider yourself to be a fan of the Star Trek franchise?</th>\n",
       "      <th>Gender</th>\n",
       "      <th>Age</th>\n",
       "      <th>Household Income</th>\n",
       "      <th>Education</th>\n",
       "      <th>Location (Census Region)</th>\n",
       "    </tr>\n",
       "  </thead>\n",
       "  <tbody>\n",
       "    <tr>\n",
       "      <th>1</th>\n",
       "      <td>3.292880e+09</td>\n",
       "      <td>True</td>\n",
       "      <td>True</td>\n",
       "      <td>True</td>\n",
       "      <td>True</td>\n",
       "      <td>True</td>\n",
       "      <td>True</td>\n",
       "      <td>True</td>\n",
       "      <td>True</td>\n",
       "      <td>3.0</td>\n",
       "      <td>2.0</td>\n",
       "      <td>1.0</td>\n",
       "      <td>4.0</td>\n",
       "      <td>5.0</td>\n",
       "      <td>6.0</td>\n",
       "      <td>Very favorably</td>\n",
       "      <td>Very favorably</td>\n",
       "      <td>Very favorably</td>\n",
       "      <td>Very favorably</td>\n",
       "      <td>Very favorably</td>\n",
       "      <td>Very favorably</td>\n",
       "      <td>Very favorably</td>\n",
       "      <td>Unfamiliar (N/A)</td>\n",
       "      <td>Unfamiliar (N/A)</td>\n",
       "      <td>Very favorably</td>\n",
       "      <td>Very favorably</td>\n",
       "      <td>Very favorably</td>\n",
       "      <td>Very favorably</td>\n",
       "      <td>Very favorably</td>\n",
       "      <td>I don't understand this question</td>\n",
       "      <td>Yes</td>\n",
       "      <td>No</td>\n",
       "      <td>No</td>\n",
       "      <td>Male</td>\n",
       "      <td>18-29</td>\n",
       "      <td>NaN</td>\n",
       "      <td>High school degree</td>\n",
       "      <td>South Atlantic</td>\n",
       "    </tr>\n",
       "    <tr>\n",
       "      <th>2</th>\n",
       "      <td>3.292880e+09</td>\n",
       "      <td>False</td>\n",
       "      <td>NaN</td>\n",
       "      <td>False</td>\n",
       "      <td>False</td>\n",
       "      <td>False</td>\n",
       "      <td>False</td>\n",
       "      <td>False</td>\n",
       "      <td>False</td>\n",
       "      <td>NaN</td>\n",
       "      <td>NaN</td>\n",
       "      <td>NaN</td>\n",
       "      <td>NaN</td>\n",
       "      <td>NaN</td>\n",
       "      <td>NaN</td>\n",
       "      <td>NaN</td>\n",
       "      <td>NaN</td>\n",
       "      <td>NaN</td>\n",
       "      <td>NaN</td>\n",
       "      <td>NaN</td>\n",
       "      <td>NaN</td>\n",
       "      <td>NaN</td>\n",
       "      <td>NaN</td>\n",
       "      <td>NaN</td>\n",
       "      <td>NaN</td>\n",
       "      <td>NaN</td>\n",
       "      <td>NaN</td>\n",
       "      <td>NaN</td>\n",
       "      <td>NaN</td>\n",
       "      <td>NaN</td>\n",
       "      <td>NaN</td>\n",
       "      <td>NaN</td>\n",
       "      <td>Yes</td>\n",
       "      <td>Male</td>\n",
       "      <td>18-29</td>\n",
       "      <td>$0 - $24,999</td>\n",
       "      <td>Bachelor degree</td>\n",
       "      <td>West South Central</td>\n",
       "    </tr>\n",
       "    <tr>\n",
       "      <th>3</th>\n",
       "      <td>3.292765e+09</td>\n",
       "      <td>True</td>\n",
       "      <td>False</td>\n",
       "      <td>True</td>\n",
       "      <td>True</td>\n",
       "      <td>True</td>\n",
       "      <td>False</td>\n",
       "      <td>False</td>\n",
       "      <td>False</td>\n",
       "      <td>1.0</td>\n",
       "      <td>2.0</td>\n",
       "      <td>3.0</td>\n",
       "      <td>4.0</td>\n",
       "      <td>5.0</td>\n",
       "      <td>6.0</td>\n",
       "      <td>Somewhat favorably</td>\n",
       "      <td>Somewhat favorably</td>\n",
       "      <td>Somewhat favorably</td>\n",
       "      <td>Somewhat favorably</td>\n",
       "      <td>Somewhat favorably</td>\n",
       "      <td>Unfamiliar (N/A)</td>\n",
       "      <td>Unfamiliar (N/A)</td>\n",
       "      <td>Unfamiliar (N/A)</td>\n",
       "      <td>Unfamiliar (N/A)</td>\n",
       "      <td>Unfamiliar (N/A)</td>\n",
       "      <td>Unfamiliar (N/A)</td>\n",
       "      <td>Unfamiliar (N/A)</td>\n",
       "      <td>Unfamiliar (N/A)</td>\n",
       "      <td>Unfamiliar (N/A)</td>\n",
       "      <td>I don't understand this question</td>\n",
       "      <td>No</td>\n",
       "      <td>NaN</td>\n",
       "      <td>No</td>\n",
       "      <td>Male</td>\n",
       "      <td>18-29</td>\n",
       "      <td>$0 - $24,999</td>\n",
       "      <td>High school degree</td>\n",
       "      <td>West North Central</td>\n",
       "    </tr>\n",
       "    <tr>\n",
       "      <th>4</th>\n",
       "      <td>3.292763e+09</td>\n",
       "      <td>True</td>\n",
       "      <td>True</td>\n",
       "      <td>True</td>\n",
       "      <td>True</td>\n",
       "      <td>True</td>\n",
       "      <td>True</td>\n",
       "      <td>True</td>\n",
       "      <td>True</td>\n",
       "      <td>5.0</td>\n",
       "      <td>6.0</td>\n",
       "      <td>1.0</td>\n",
       "      <td>2.0</td>\n",
       "      <td>4.0</td>\n",
       "      <td>3.0</td>\n",
       "      <td>Very favorably</td>\n",
       "      <td>Very favorably</td>\n",
       "      <td>Very favorably</td>\n",
       "      <td>Very favorably</td>\n",
       "      <td>Very favorably</td>\n",
       "      <td>Somewhat favorably</td>\n",
       "      <td>Very favorably</td>\n",
       "      <td>Somewhat favorably</td>\n",
       "      <td>Somewhat unfavorably</td>\n",
       "      <td>Very favorably</td>\n",
       "      <td>Very favorably</td>\n",
       "      <td>Very favorably</td>\n",
       "      <td>Very favorably</td>\n",
       "      <td>Very favorably</td>\n",
       "      <td>I don't understand this question</td>\n",
       "      <td>No</td>\n",
       "      <td>NaN</td>\n",
       "      <td>Yes</td>\n",
       "      <td>Male</td>\n",
       "      <td>18-29</td>\n",
       "      <td>$100,000 - $149,999</td>\n",
       "      <td>Some college or Associate degree</td>\n",
       "      <td>West North Central</td>\n",
       "    </tr>\n",
       "    <tr>\n",
       "      <th>5</th>\n",
       "      <td>3.292731e+09</td>\n",
       "      <td>True</td>\n",
       "      <td>True</td>\n",
       "      <td>True</td>\n",
       "      <td>True</td>\n",
       "      <td>True</td>\n",
       "      <td>True</td>\n",
       "      <td>True</td>\n",
       "      <td>True</td>\n",
       "      <td>5.0</td>\n",
       "      <td>4.0</td>\n",
       "      <td>6.0</td>\n",
       "      <td>2.0</td>\n",
       "      <td>1.0</td>\n",
       "      <td>3.0</td>\n",
       "      <td>Very favorably</td>\n",
       "      <td>Somewhat favorably</td>\n",
       "      <td>Somewhat favorably</td>\n",
       "      <td>Somewhat unfavorably</td>\n",
       "      <td>Very favorably</td>\n",
       "      <td>Very unfavorably</td>\n",
       "      <td>Somewhat favorably</td>\n",
       "      <td>Neither favorably nor unfavorably (neutral)</td>\n",
       "      <td>Very favorably</td>\n",
       "      <td>Somewhat favorably</td>\n",
       "      <td>Somewhat favorably</td>\n",
       "      <td>Very unfavorably</td>\n",
       "      <td>Somewhat favorably</td>\n",
       "      <td>Somewhat favorably</td>\n",
       "      <td>Greedo</td>\n",
       "      <td>Yes</td>\n",
       "      <td>No</td>\n",
       "      <td>No</td>\n",
       "      <td>Male</td>\n",
       "      <td>18-29</td>\n",
       "      <td>$100,000 - $149,999</td>\n",
       "      <td>Some college or Associate degree</td>\n",
       "      <td>West North Central</td>\n",
       "    </tr>\n",
       "  </tbody>\n",
       "</table>\n",
       "</div>"
      ],
      "text/plain": [
       "   RespondentID  Have you seen any of the 6 films in the Star Wars franchise?  \\\n",
       "1  3.292880e+09                                               True              \n",
       "2  3.292880e+09                                              False              \n",
       "3  3.292765e+09                                               True              \n",
       "4  3.292763e+09                                               True              \n",
       "5  3.292731e+09                                               True              \n",
       "\n",
       "  Do you consider yourself to be a fan of the Star Wars film franchise?  \\\n",
       "1                                               True                      \n",
       "2                                                NaN                      \n",
       "3                                              False                      \n",
       "4                                               True                      \n",
       "5                                               True                      \n",
       "\n",
       "   seen_1  seen_2  seen_3  seen_4  seen_5  seen_6  ranking_1  ranking_2  \\\n",
       "1    True    True    True    True    True    True        3.0        2.0   \n",
       "2   False   False   False   False   False   False        NaN        NaN   \n",
       "3    True    True    True   False   False   False        1.0        2.0   \n",
       "4    True    True    True    True    True    True        5.0        6.0   \n",
       "5    True    True    True    True    True    True        5.0        4.0   \n",
       "\n",
       "   ranking_3  ranking_4  ranking_5  ranking_6  \\\n",
       "1        1.0        4.0        5.0        6.0   \n",
       "2        NaN        NaN        NaN        NaN   \n",
       "3        3.0        4.0        5.0        6.0   \n",
       "4        1.0        2.0        4.0        3.0   \n",
       "5        6.0        2.0        1.0        3.0   \n",
       "\n",
       "  Please state whether you view the following characters favorably, unfavorably, or are unfamiliar with him/her.  \\\n",
       "1                                     Very favorably                                                               \n",
       "2                                                NaN                                                               \n",
       "3                                 Somewhat favorably                                                               \n",
       "4                                     Very favorably                                                               \n",
       "5                                     Very favorably                                                               \n",
       "\n",
       "          Unnamed: 16         Unnamed: 17           Unnamed: 18  \\\n",
       "1      Very favorably      Very favorably        Very favorably   \n",
       "2                 NaN                 NaN                   NaN   \n",
       "3  Somewhat favorably  Somewhat favorably    Somewhat favorably   \n",
       "4      Very favorably      Very favorably        Very favorably   \n",
       "5  Somewhat favorably  Somewhat favorably  Somewhat unfavorably   \n",
       "\n",
       "          Unnamed: 19         Unnamed: 20         Unnamed: 21  \\\n",
       "1      Very favorably      Very favorably      Very favorably   \n",
       "2                 NaN                 NaN                 NaN   \n",
       "3  Somewhat favorably    Unfamiliar (N/A)    Unfamiliar (N/A)   \n",
       "4      Very favorably  Somewhat favorably      Very favorably   \n",
       "5      Very favorably    Very unfavorably  Somewhat favorably   \n",
       "\n",
       "                                   Unnamed: 22           Unnamed: 23  \\\n",
       "1                             Unfamiliar (N/A)      Unfamiliar (N/A)   \n",
       "2                                          NaN                   NaN   \n",
       "3                             Unfamiliar (N/A)      Unfamiliar (N/A)   \n",
       "4                           Somewhat favorably  Somewhat unfavorably   \n",
       "5  Neither favorably nor unfavorably (neutral)        Very favorably   \n",
       "\n",
       "          Unnamed: 24         Unnamed: 25       Unnamed: 26  \\\n",
       "1      Very favorably      Very favorably    Very favorably   \n",
       "2                 NaN                 NaN               NaN   \n",
       "3    Unfamiliar (N/A)    Unfamiliar (N/A)  Unfamiliar (N/A)   \n",
       "4      Very favorably      Very favorably    Very favorably   \n",
       "5  Somewhat favorably  Somewhat favorably  Very unfavorably   \n",
       "\n",
       "          Unnamed: 27         Unnamed: 28       Which character shot first?  \\\n",
       "1      Very favorably      Very favorably  I don't understand this question   \n",
       "2                 NaN                 NaN                               NaN   \n",
       "3    Unfamiliar (N/A)    Unfamiliar (N/A)  I don't understand this question   \n",
       "4      Very favorably      Very favorably  I don't understand this question   \n",
       "5  Somewhat favorably  Somewhat favorably                            Greedo   \n",
       "\n",
       "  Are you familiar with the Expanded Universe?  \\\n",
       "1                                          Yes   \n",
       "2                                          NaN   \n",
       "3                                           No   \n",
       "4                                           No   \n",
       "5                                          Yes   \n",
       "\n",
       "  Do you consider yourself to be a fan of the Expanded Universe?ÂÃ¦  \\\n",
       "1                                                 No                   \n",
       "2                                                NaN                   \n",
       "3                                                NaN                   \n",
       "4                                                NaN                   \n",
       "5                                                 No                   \n",
       "\n",
       "  Do you consider yourself to be a fan of the Star Trek franchise? Gender  \\\n",
       "1                                                 No                 Male   \n",
       "2                                                Yes                 Male   \n",
       "3                                                 No                 Male   \n",
       "4                                                Yes                 Male   \n",
       "5                                                 No                 Male   \n",
       "\n",
       "     Age     Household Income                         Education  \\\n",
       "1  18-29                  NaN                High school degree   \n",
       "2  18-29         $0 - $24,999                   Bachelor degree   \n",
       "3  18-29         $0 - $24,999                High school degree   \n",
       "4  18-29  $100,000 - $149,999  Some college or Associate degree   \n",
       "5  18-29  $100,000 - $149,999  Some college or Associate degree   \n",
       "\n",
       "  Location (Census Region)  \n",
       "1           South Atlantic  \n",
       "2       West South Central  \n",
       "3       West North Central  \n",
       "4       West North Central  \n",
       "5       West North Central  "
      ]
     },
     "execution_count": 69,
     "metadata": {},
     "output_type": "execute_result"
    }
   ],
   "source": [
    "star_wars.head()"
   ]
  },
  {
   "cell_type": "markdown",
   "metadata": {},
   "source": [
    "### Highest ranked movie"
   ]
  },
  {
   "cell_type": "code",
   "execution_count": 70,
   "metadata": {},
   "outputs": [
    {
     "data": {
      "text/plain": [
       "Text(0.5, 1.0, 'Popular Star Wars movie')"
      ]
     },
     "execution_count": 70,
     "metadata": {},
     "output_type": "execute_result"
    },
    {
     "data": {
      "image/png": "[encoded data removed]",
      "text/plain": [
       "<Figure size 1080x720 with 1 Axes>"
      ]
     },
     "metadata": {
      "needs_background": "light"
     },
     "output_type": "display_data"
    }
   ],
   "source": [
    "star_wars.iloc[:, 9:15].mean().rdiv(1).plot(kind='bar', color='blue', figsize=(15,10))\n",
    "plt.title(\"Popular Star Wars movie\")"
   ]
  },
  {
   "cell_type": "markdown",
   "metadata": {},
   "source": [
    "* As lower ranking is better, to make it visually perfect, i used `rdiv`"
   ]
  },
  {
   "cell_type": "markdown",
   "metadata": {},
   "source": [
    "### Which movie people watched?"
   ]
  },
  {
   "cell_type": "code",
   "execution_count": 71,
   "metadata": {},
   "outputs": [
    {
     "data": {
      "text/plain": [
       "<matplotlib.axes._subplots.AxesSubplot at 0x2317f5ee8d0>"
      ]
     },
     "execution_count": 71,
     "metadata": {},
     "output_type": "execute_result"
    },
    {
     "data": {
      "image/png": "[encoded data removed]",
      "text/plain": [
       "<Figure size 1080x720 with 1 Axes>"
      ]
     },
     "metadata": {
      "needs_background": "light"
     },
     "output_type": "display_data"
    }
   ],
   "source": [
    "star_wars.iloc[:, 3:9].sum().plot(kind='bar', color='blue', figsize=(15,10))"
   ]
  },
  {
   "cell_type": "markdown",
   "metadata": {},
   "source": [
    "### Movie popularity by Gender"
   ]
  },
  {
   "cell_type": "code",
   "execution_count": 72,
   "metadata": {},
   "outputs": [
    {
     "data": {
      "text/plain": [
       "Female    549\n",
       "Male      497\n",
       "Name: Gender, dtype: int64"
      ]
     },
     "execution_count": 72,
     "metadata": {},
     "output_type": "execute_result"
    }
   ],
   "source": [
    "star_wars.Gender.value_counts()"
   ]
  },
  {
   "cell_type": "code",
   "execution_count": 73,
   "metadata": {},
   "outputs": [
    {
     "data": {
      "text/plain": [
       "<matplotlib.axes._subplots.AxesSubplot at 0x2317f1497b8>"
      ]
     },
     "execution_count": 73,
     "metadata": {},
     "output_type": "execute_result"
    },
    {
     "data": {
      "image/png": "[encoded data removed]",
      "text/plain": [
       "<Figure size 1080x720 with 1 Axes>"
      ]
     },
     "metadata": {
      "needs_background": "light"
     },
     "output_type": "display_data"
    }
   ],
   "source": [
    "star_wars.groupby('Gender')['seen_1','seen_2','seen_3','seen_4','seen_5','seen_6'].sum().plot(kind='bar', figsize=(15,10))"
   ]
  },
  {
   "cell_type": "code",
   "execution_count": 74,
   "metadata": {},
   "outputs": [
    {
     "data": {
      "text/plain": [
       "<matplotlib.axes._subplots.AxesSubplot at 0x2317b9aff98>"
      ]
     },
     "execution_count": 74,
     "metadata": {},
     "output_type": "execute_result"
    },
    {
     "data": {
      "image/png": "[encoded data removed]",
      "text/plain": [
       "<Figure size 1080x720 with 1 Axes>"
      ]
     },
     "metadata": {
      "needs_background": "light"
     },
     "output_type": "display_data"
    }
   ],
   "source": [
    "star_wars.groupby('Gender')['ranking_1','ranking_2','ranking_3','ranking_4','ranking_5','ranking_6'].mean().rdiv(1).plot(kind='bar', figsize=(15,10))"
   ]
  },
  {
   "cell_type": "markdown",
   "metadata": {},
   "source": [
    "* More males watched episode 1-3, but less liked them than females."
   ]
  },
  {
   "cell_type": "code",
   "execution_count": 75,
   "metadata": {},
   "outputs": [],
   "source": [
    "star_wars = star_wars.rename(columns={\"Are you familiar with the Expanded Universe?\": \"familiar_expanded_universe\",\n",
    "                         \"Do you consider yourself to be a fan of the Expanded Universe?ÂÃ¦\": \"fan_expanded_universe\",\n",
    "                         \"Do you consider yourself to be a fan of the Star Trek franchise?\":\"fan_star_trek_franchise\"})"
   ]
  },
  {
   "cell_type": "code",
   "execution_count": 76,
   "metadata": {},
   "outputs": [
    {
     "data": {
      "text/plain": [
       "Index(['RespondentID',\n",
       "       'Have you seen any of the 6 films in the Star Wars franchise?',\n",
       "       'Do you consider yourself to be a fan of the Star Wars film franchise?',\n",
       "       'seen_1', 'seen_2', 'seen_3', 'seen_4', 'seen_5', 'seen_6', 'ranking_1',\n",
       "       'ranking_2', 'ranking_3', 'ranking_4', 'ranking_5', 'ranking_6',\n",
       "       'Please state whether you view the following characters favorably, unfavorably, or are unfamiliar with him/her.',\n",
       "       'Unnamed: 16', 'Unnamed: 17', 'Unnamed: 18', 'Unnamed: 19',\n",
       "       'Unnamed: 20', 'Unnamed: 21', 'Unnamed: 22', 'Unnamed: 23',\n",
       "       'Unnamed: 24', 'Unnamed: 25', 'Unnamed: 26', 'Unnamed: 27',\n",
       "       'Unnamed: 28', 'Which character shot first?',\n",
       "       'familiar_expanded_universe', 'fan_expanded_universe',\n",
       "       'fan_star_trek_franchise', 'Gender', 'Age', 'Household Income',\n",
       "       'Education', 'Location (Census Region)'],\n",
       "      dtype='object')"
      ]
     },
     "execution_count": 76,
     "metadata": {},
     "output_type": "execute_result"
    }
   ],
   "source": [
    "star_wars.columns"
   ]
  },
  {
   "cell_type": "code",
   "execution_count": 77,
   "metadata": {},
   "outputs": [
    {
     "data": {
      "text/plain": [
       "No     615\n",
       "Yes    213\n",
       "Name: familiar_expanded_universe, dtype: int64"
      ]
     },
     "execution_count": 77,
     "metadata": {},
     "output_type": "execute_result"
    }
   ],
   "source": [
    "star_wars.familiar_expanded_universe.value_counts()"
   ]
  },
  {
   "cell_type": "code",
   "execution_count": 78,
   "metadata": {},
   "outputs": [],
   "source": [
    "yes_no_mapping={'Yes':True, 'No':False}"
   ]
  },
  {
   "cell_type": "code",
   "execution_count": 79,
   "metadata": {},
   "outputs": [],
   "source": [
    "star_wars.familiar_expanded_universe = star_wars.familiar_expanded_universe.map(yes_no_mapping)"
   ]
  },
  {
   "cell_type": "code",
   "execution_count": 80,
   "metadata": {},
   "outputs": [
    {
     "data": {
      "text/plain": [
       "False    615\n",
       "True     213\n",
       "Name: familiar_expanded_universe, dtype: int64"
      ]
     },
     "execution_count": 80,
     "metadata": {},
     "output_type": "execute_result"
    }
   ],
   "source": [
    "star_wars.familiar_expanded_universe.value_counts()"
   ]
  },
  {
   "cell_type": "code",
   "execution_count": 81,
   "metadata": {},
   "outputs": [],
   "source": [
    "star_wars.familiar_expanded_universe = star_wars.familiar_expanded_universe.astype(bool)"
   ]
  },
  {
   "cell_type": "code",
   "execution_count": 82,
   "metadata": {},
   "outputs": [
    {
     "data": {
      "text/plain": [
       "No     114\n",
       "Yes     99\n",
       "Name: fan_expanded_universe, dtype: int64"
      ]
     },
     "execution_count": 82,
     "metadata": {},
     "output_type": "execute_result"
    }
   ],
   "source": [
    "star_wars.fan_expanded_universe.value_counts()"
   ]
  },
  {
   "cell_type": "code",
   "execution_count": 83,
   "metadata": {},
   "outputs": [
    {
     "data": {
      "text/plain": [
       "False    114\n",
       "True      99\n",
       "Name: fan_expanded_universe, dtype: int64"
      ]
     },
     "execution_count": 83,
     "metadata": {},
     "output_type": "execute_result"
    }
   ],
   "source": [
    "star_wars.fan_expanded_universe = star_wars.fan_expanded_universe.map(yes_no_mapping)\n",
    "star_wars.fan_expanded_universe.value_counts()"
   ]
  },
  {
   "cell_type": "code",
   "execution_count": 84,
   "metadata": {},
   "outputs": [
    {
     "data": {
      "text/plain": [
       "No     641\n",
       "Yes    427\n",
       "Name: fan_star_trek_franchise, dtype: int64"
      ]
     },
     "execution_count": 84,
     "metadata": {},
     "output_type": "execute_result"
    }
   ],
   "source": [
    "star_wars.fan_star_trek_franchise.value_counts()"
   ]
  },
  {
   "cell_type": "code",
   "execution_count": 85,
   "metadata": {},
   "outputs": [
    {
     "data": {
      "text/plain": [
       "False    641\n",
       "True     427\n",
       "Name: fan_star_trek_franchise, dtype: int64"
      ]
     },
     "execution_count": 85,
     "metadata": {},
     "output_type": "execute_result"
    }
   ],
   "source": [
    "star_wars.fan_star_trek_franchise = star_wars.fan_star_trek_franchise.map(yes_no_mapping)\n",
    "star_wars.fan_star_trek_franchise.value_counts()"
   ]
  },
  {
   "cell_type": "code",
   "execution_count": 86,
   "metadata": {},
   "outputs": [
    {
     "name": "stdout",
     "output_type": "stream",
     "text": [
      "<class 'pandas.core.frame.DataFrame'>\n",
      "Int64Index: 1186 entries, 1 to 1186\n",
      "Data columns (total 38 columns):\n",
      "RespondentID                                                                                                      1186 non-null float64\n",
      "Have you seen any of the 6 films in the Star Wars franchise?                                                      1186 non-null bool\n",
      "Do you consider yourself to be a fan of the Star Wars film franchise?                                             836 non-null object\n",
      "seen_1                                                                                                            1186 non-null bool\n",
      "seen_2                                                                                                            1186 non-null bool\n",
      "seen_3                                                                                                            1186 non-null bool\n",
      "seen_4                                                                                                            1186 non-null bool\n",
      "seen_5                                                                                                            1186 non-null bool\n",
      "seen_6                                                                                                            1186 non-null bool\n",
      "ranking_1                                                                                                         835 non-null float64\n",
      "ranking_2                                                                                                         836 non-null float64\n",
      "ranking_3                                                                                                         835 non-null float64\n",
      "ranking_4                                                                                                         836 non-null float64\n",
      "ranking_5                                                                                                         836 non-null float64\n",
      "ranking_6                                                                                                         836 non-null float64\n",
      "Please state whether you view the following characters favorably, unfavorably, or are unfamiliar with him/her.    829 non-null object\n",
      "Unnamed: 16                                                                                                       831 non-null object\n",
      "Unnamed: 17                                                                                                       831 non-null object\n",
      "Unnamed: 18                                                                                                       823 non-null object\n",
      "Unnamed: 19                                                                                                       825 non-null object\n",
      "Unnamed: 20                                                                                                       814 non-null object\n",
      "Unnamed: 21                                                                                                       826 non-null object\n",
      "Unnamed: 22                                                                                                       820 non-null object\n",
      "Unnamed: 23                                                                                                       812 non-null object\n",
      "Unnamed: 24                                                                                                       827 non-null object\n",
      "Unnamed: 25                                                                                                       830 non-null object\n",
      "Unnamed: 26                                                                                                       821 non-null object\n",
      "Unnamed: 27                                                                                                       814 non-null object\n",
      "Unnamed: 28                                                                                                       826 non-null object\n",
      "Which character shot first?                                                                                       828 non-null object\n",
      "familiar_expanded_universe                                                                                        1186 non-null bool\n",
      "fan_expanded_universe                                                                                             213 non-null object\n",
      "fan_star_trek_franchise                                                                                           1068 non-null object\n",
      "Gender                                                                                                            1046 non-null object\n",
      "Age                                                                                                               1046 non-null object\n",
      "Household Income                                                                                                  858 non-null object\n",
      "Education                                                                                                         1036 non-null object\n",
      "Location (Census Region)                                                                                          1043 non-null object\n",
      "dtypes: bool(8), float64(7), object(23)\n",
      "memory usage: 296.5+ KB\n"
     ]
    }
   ],
   "source": [
    "star_wars.info()"
   ]
  },
  {
   "cell_type": "markdown",
   "metadata": {},
   "source": [
    "### Movie popularity by Familiarity with Expanded Universe"
   ]
  },
  {
   "cell_type": "code",
   "execution_count": 87,
   "metadata": {},
   "outputs": [
    {
     "data": {
      "text/plain": [
       "<matplotlib.axes._subplots.AxesSubplot at 0x2317ee376d8>"
      ]
     },
     "execution_count": 87,
     "metadata": {},
     "output_type": "execute_result"
    },
    {
     "data": {
      "image/png": "[encoded data removed]",
      "text/plain": [
       "<Figure size 1080x720 with 1 Axes>"
      ]
     },
     "metadata": {
      "needs_background": "light"
     },
     "output_type": "display_data"
    }
   ],
   "source": [
    "star_wars.groupby('familiar_expanded_universe')['seen_1','seen_2','seen_3','seen_4','seen_5','seen_6'].sum().plot(kind='bar', figsize=(15,10))"
   ]
  },
  {
   "cell_type": "code",
   "execution_count": 88,
   "metadata": {},
   "outputs": [
    {
     "data": {
      "text/plain": [
       "<matplotlib.axes._subplots.AxesSubplot at 0x2317f34a198>"
      ]
     },
     "execution_count": 88,
     "metadata": {},
     "output_type": "execute_result"
    },
    {
     "data": {
      "image/png": "[encoded data removed]",
      "text/plain": [
       "<Figure size 1080x720 with 1 Axes>"
      ]
     },
     "metadata": {
      "needs_background": "light"
     },
     "output_type": "display_data"
    }
   ],
   "source": [
    "star_wars.groupby('familiar_expanded_universe')['ranking_1','ranking_2','ranking_3','ranking_4','ranking_5','ranking_6'].mean().rdiv(1).plot(kind='bar', figsize=(15,10))"
   ]
  },
  {
   "cell_type": "markdown",
   "metadata": {},
   "source": [
    "### Movie popularity with Fan of expanded universe"
   ]
  },
  {
   "cell_type": "code",
   "execution_count": 89,
   "metadata": {},
   "outputs": [
    {
     "data": {
      "text/plain": [
       "<matplotlib.axes._subplots.AxesSubplot at 0x2317e94ed68>"
      ]
     },
     "execution_count": 89,
     "metadata": {},
     "output_type": "execute_result"
    },
    {
     "data": {
      "image/png": "[encoded data removed]",
      "text/plain": [
       "<Figure size 1080x720 with 1 Axes>"
      ]
     },
     "metadata": {
      "needs_background": "light"
     },
     "output_type": "display_data"
    }
   ],
   "source": [
    "star_wars.groupby('fan_expanded_universe')['seen_1','seen_2','seen_3','seen_4','seen_5','seen_6'].sum().plot(kind='bar', figsize=(15,10))"
   ]
  },
  {
   "cell_type": "code",
   "execution_count": 90,
   "metadata": {},
   "outputs": [
    {
     "data": {
      "text/plain": [
       "<matplotlib.axes._subplots.AxesSubplot at 0x2317ea84f60>"
      ]
     },
     "execution_count": 90,
     "metadata": {},
     "output_type": "execute_result"
    },
    {
     "data": {
      "image/png": "[encoded data removed]",
      "text/plain": [
       "<Figure size 1080x720 with 1 Axes>"
      ]
     },
     "metadata": {
      "needs_background": "light"
     },
     "output_type": "display_data"
    }
   ],
   "source": [
    "star_wars.groupby('fan_expanded_universe')['ranking_1','ranking_2','ranking_3','ranking_4','ranking_5','ranking_6'].mean().rdiv(1).plot(kind='bar', figsize=(15,10))"
   ]
  },
  {
   "cell_type": "markdown",
   "metadata": {},
   "source": [
    "### Movie popularity with Fan of Star trek franchise"
   ]
  },
  {
   "cell_type": "code",
   "execution_count": 91,
   "metadata": {},
   "outputs": [
    {
     "data": {
      "text/plain": [
       "<matplotlib.axes._subplots.AxesSubplot at 0x2310001c860>"
      ]
     },
     "execution_count": 91,
     "metadata": {},
     "output_type": "execute_result"
    },
    {
     "data": {
      "image/png": "[encoded data removed]",
      "text/plain": [
       "<Figure size 1080x720 with 1 Axes>"
      ]
     },
     "metadata": {
      "needs_background": "light"
     },
     "output_type": "display_data"
    }
   ],
   "source": [
    "star_wars.groupby('fan_star_trek_franchise')['seen_1','seen_2','seen_3','seen_4','seen_5','seen_6'].sum().plot(kind='bar', figsize=(15,10))"
   ]
  },
  {
   "cell_type": "code",
   "execution_count": 92,
   "metadata": {},
   "outputs": [
    {
     "data": {
      "text/plain": [
       "<matplotlib.axes._subplots.AxesSubplot at 0x231002a6dd8>"
      ]
     },
     "execution_count": 92,
     "metadata": {},
     "output_type": "execute_result"
    },
    {
     "data": {
      "image/png": "[encoded data removed]",
      "text/plain": [
       "<Figure size 1080x720 with 1 Axes>"
      ]
     },
     "metadata": {
      "needs_background": "light"
     },
     "output_type": "display_data"
    }
   ],
   "source": [
    "star_wars.groupby('fan_star_trek_franchise')['ranking_1','ranking_2','ranking_3','ranking_4','ranking_5','ranking_6'].mean().rdiv(1).plot(kind='bar',figsize=(15,10))"
   ]
  },
  {
   "cell_type": "markdown",
   "metadata": {},
   "source": [
    "### Movie popularity by age group"
   ]
  },
  {
   "cell_type": "code",
   "execution_count": 93,
   "metadata": {},
   "outputs": [
    {
     "data": {
      "text/plain": [
       "45-60    291\n",
       "> 60     269\n",
       "30-44    268\n",
       "18-29    218\n",
       "Name: Age, dtype: int64"
      ]
     },
     "execution_count": 93,
     "metadata": {},
     "output_type": "execute_result"
    }
   ],
   "source": [
    "star_wars.Age.value_counts()"
   ]
  },
  {
   "cell_type": "code",
   "execution_count": 94,
   "metadata": {},
   "outputs": [
    {
     "data": {
      "text/plain": [
       "<matplotlib.axes._subplots.AxesSubplot at 0x23101225eb8>"
      ]
     },
     "execution_count": 94,
     "metadata": {},
     "output_type": "execute_result"
    },
    {
     "data": {
      "image/png": "[encoded data removed]",
      "text/plain": [
       "<Figure size 1080x720 with 1 Axes>"
      ]
     },
     "metadata": {
      "needs_background": "light"
     },
     "output_type": "display_data"
    }
   ],
   "source": [
    "star_wars.groupby('Age')['seen_1','seen_2','seen_3','seen_4','seen_5','seen_6'].sum().plot(kind='bar', figsize=(15,10))"
   ]
  },
  {
   "cell_type": "code",
   "execution_count": 116,
   "metadata": {},
   "outputs": [
    {
     "data": {
      "text/plain": [
       "(array([0, 1, 2, 3]), <a list of 4 Text xticklabel objects>)"
      ]
     },
     "execution_count": 116,
     "metadata": {},
     "output_type": "execute_result"
    },
    {
     "data": {
      "image/png": "[encoded data removed]",
      "text/plain": [
       "<Figure size 1080x720 with 1 Axes>"
      ]
     },
     "metadata": {
      "needs_background": "light"
     },
     "output_type": "display_data"
    }
   ],
   "source": [
    "star_wars.groupby('Age')['ranking_1','ranking_2','ranking_3','ranking_4','ranking_5','ranking_6'].mean().rdiv(1).plot(kind='bar', figsize=(15,10))\n",
    "plt.xticks(rotation=0)"
   ]
  },
  {
   "cell_type": "code",
   "execution_count": null,
   "metadata": {},
   "outputs": [],
   "source": []
  }
 ],
 "metadata": {
  "kernelspec": {
   "display_name": "Python 3",
   "language": "python",
   "name": "python3"
  },
  "language_info": {
   "codemirror_mode": {
    "name": "ipython",
    "version": 3
   },
   "file_extension": ".py",
   "mimetype": "text/x-python",
   "name": "python",
   "nbconvert_exporter": "python",
   "pygments_lexer": "ipython3",
   "version": "3.7.1"
  }
 },
 "nbformat": 4,
 "nbformat_minor": 2
}
